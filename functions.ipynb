{
 "cells": [
  {
   "cell_type": "markdown",
   "metadata": {},
   "source": [
    "Вы работаете секретарем и вам постоянно приходят различные документы. Вы должны быть очень внимательны, чтобы не потерять ни один документ. Каталог документов хранится в следующем виде:"
   ]
  },
  {
   "cell_type": "code",
   "execution_count": 22,
   "metadata": {},
   "outputs": [
    {
     "name": "stdout",
     "output_type": "stream",
     "text": [
      "Введите номер документа11-2\n"
     ]
    },
    {
     "data": {
      "text/plain": [
       "'Геннадий Покемонов'"
      ]
     },
     "execution_count": 22,
     "metadata": {},
     "output_type": "execute_result"
    }
   ],
   "source": [
    "documents = [\n",
    "    {'type': 'passport', 'number': '2207 876234', 'name': 'Василий Гупкин'},\n",
    "    {'type': 'invoice', 'number': '11-2', 'name': 'Геннадий Покемонов'},\n",
    "    {'type': 'insurance', 'number': '10006', 'name': 'Аристарх Павлов'}\n",
    "]\n",
    "directories = {\n",
    "    '1': ['2207 876234', '11-2'],\n",
    "    '2': ['10006'],\n",
    "    '3': []\n",
    "}\n",
    "def people(documents):\n",
    "    input_num_doc = input('Введите номер документа')\n",
    "    for doc in documents:\n",
    "        if input_num_doc == doc['number']:\n",
    "            return doc['name']\n",
    "    return('такого документа не существует')\n",
    "people(documents)"
   ]
  },
  {
   "cell_type": "code",
   "execution_count": 2,
   "metadata": {},
   "outputs": [
    {
     "name": "stdout",
     "output_type": "stream",
     "text": [
      "Введите номер документа: 11-2\n"
     ]
    },
    {
     "data": {
      "text/plain": [
       "'1'"
      ]
     },
     "execution_count": 2,
     "metadata": {},
     "output_type": "execute_result"
    }
   ],
   "source": [
    "def shelf(directories):\n",
    "    input_num_doc = input('Введите номер документа: ')\n",
    "    for i, shelf_num in directories.items():\n",
    "        if input_num_doc in shelf_num:\n",
    "                return i\n",
    "    print('такого документа не существует')\n",
    "shelf() \n"
   ]
  },
  {
   "cell_type": "code",
   "execution_count": 85,
   "metadata": {},
   "outputs": [
    {
     "name": "stdout",
     "output_type": "stream",
     "text": [
      "passport, 2207 876234, Василий Гупкин\n",
      "invoice, 11-2, Геннадий Покемонов\n",
      "insurance, [], Аристарх Павлов\n"
     ]
    }
   ],
   "source": [
    "def list_doc():\n",
    "    for list_doc in documents:\n",
    "        print(f\"{list_doc['type']}, {list_doc['number']}, {list_doc['name']}\")\n",
    "list_doc()        \n"
   ]
  },
  {
   "cell_type": "code",
   "execution_count": 36,
   "metadata": {},
   "outputs": [
    {
     "name": "stdout",
     "output_type": "stream",
     "text": [
      "Введите новый номер полки: 4\n",
      "Добавляю полку {'1': ['2207 876234', '11-2'], '2': ['10006'], '3': [], '4': []}\n"
     ]
    }
   ],
   "source": [
    "def add_shelf(directories):\n",
    "    new_shelf = []\n",
    "    new_shelf = input('Введите новый номер полки: ')\n",
    "    for i, shelf_num in directories.items():\n",
    "        if new_shelf in i:\n",
    "            print('Полка уже существует')\n",
    "    else:\n",
    "        directories[new_shelf] = []\n",
    "        print('Добавляю полку: ',directories)\n",
    "add_shelf(directories)\n",
    "  "
   ]
  },
  {
   "cell_type": "code",
   "execution_count": null,
   "metadata": {},
   "outputs": [],
   "source": [
    "def delete(documents, directories):\n",
    "    input_num_doc = input('Введите номер документа: ')\n",
    "    del_num = False\n",
    "    for el in documents:\n",
    "        if input_num_doc == el['number']:\n",
    "            input_num_doc = el['number']\n",
    "            documents.remove(el)\n",
    "            del_num = True\n",
    "    if del_num == False:\n",
    "        print('такого документа не существует')        \n",
    "    for key, value in directories.values():\n",
    "        if value.count(input_num_doc) != 0:\n",
    "            directories[key].remove(input_num_doc)\n",
    "delete(documents, directories)"
   ]
  },
  {
   "cell_type": "code",
   "execution_count": 3,
   "metadata": {},
   "outputs": [
    {
     "name": "stdout",
     "output_type": "stream",
     "text": [
      "Введите номер документа: 11-2\n",
      "Введите целевой номер полки: 3\n",
      "{'1': ['2207 876234'], '2': ['10006'], '3': ['11-2']}\n"
     ]
    }
   ],
   "source": [
    "def move(directories):\n",
    "    input_num_doc = input('Введите номер документа: ')\n",
    "    if sum([value.count(input_num_doc) for value in directories.values()]) == 0:\n",
    "        print('Документ не существует')\n",
    "        return\n",
    "    target_shelf = input('Введите целевой номер полки: ')\n",
    "    if list(directories.keys()).count(target_shelf) != 0:\n",
    "        for key, value in directories.items():\n",
    "            if value.count(input_num_doc) != 0:\n",
    "                directories[key].remove(input_num_doc)   \n",
    "        directories[target_shelf].append(input_num_doc)\n",
    "    else: \n",
    "        print('Полка с номером' + target_shelf + 'не существует')\n",
    "    \n",
    "move()\n",
    "print(directories)\n"
   ]
  },
  {
   "cell_type": "code",
   "execution_count": 23,
   "metadata": {},
   "outputs": [
    {
     "name": "stdout",
     "output_type": "stream",
     "text": [
      "Введите номер документа: 555\n",
      "Введите тип документа: ппп\n",
      "Введите имя документа: роадв\n",
      "Введите необхожимую полку для хранения документа: 3\n",
      "[{'type': 'passport', 'number': '2207 876234', 'name': 'Василий Гупкин'}, {'type': 'invoice', 'number': '11-2', 'name': 'Геннадий Покемонов'}, {'type': 'insurance', 'number': '10006', 'name': 'Аристарх Павлов'}, {'type': 'ппп', 'number': '555', 'name': 'роадв'}]\n",
      "{'1': ['2207 876234', '11-2'], '2': ['10006'], '3': ['555']}\n"
     ]
    }
   ],
   "source": [
    "def add(documents, directories):\n",
    "    input_num_doc = input('Введите номер документа: ')\n",
    "    input_type_doc = input('Введите тип документа: ')\n",
    "    input_name_doc = input('Введите имя документа: ')\n",
    "    input_shelf_doc = input('Введите необхожимую полку для хранения документа: ')\n",
    "    if input_shelf_doc not in directories:\n",
    "        print('Такой полки не существует')\n",
    "        return\n",
    "    documents.append({'type': input_type_doc, 'number': input_num_doc, 'name': input_name_doc})\n",
    "    directories[input_shelf_doc].append(input_num_doc)\n",
    "    return\n",
    "add(documents, directories)\n",
    "print(documents)\n",
    "print(directories)"
   ]
  },
  {
   "cell_type": "code",
   "execution_count": 25,
   "metadata": {},
   "outputs": [
    {
     "ename": "SyntaxError",
     "evalue": "invalid syntax (<ipython-input-25-87b8b7633fcb>, line 3)",
     "output_type": "error",
     "traceback": [
      "\u001b[1;36m  File \u001b[1;32m\"<ipython-input-25-87b8b7633fcb>\"\u001b[1;36m, line \u001b[1;32m3\u001b[0m\n\u001b[1;33m    if comand = 'p':\u001b[0m\n\u001b[1;37m              ^\u001b[0m\n\u001b[1;31mSyntaxError\u001b[0m\u001b[1;31m:\u001b[0m invalid syntax\n"
     ]
    }
   ],
   "source": [
    "def main():\n",
    "    while True:\n",
    "        if comand = 'p':\n",
    "            input_num_doc = input('Введите номер документа')\n",
    "            people(documents)\n",
    "        elif comand = 's':\n",
    "            input_num_doc = input('Введите номер документа: ')\n",
    "            shelf(directories)\n",
    "        elif comand = 'l':\n",
    "            list_doc()\n",
    "        elif comand = 'as':\n",
    "            new_shelf = input('Введите новый номер полки: ')\n",
    "            add_shelf(directories)\n",
    "        elif comand = 'd':\n",
    "            input_num_doc = input('Введите номер документа: ')\n",
    "            delete(documents, directories) \n",
    "        elif comand = 'm':\n",
    "            input_num_doc = input('Введите номер документа: ')\n",
    "            target_shelf = input('Введите целевой номер полки: ')\n",
    "            move(directories)\n",
    "        elif comand = 'a':   \n",
    "            input_num_doc = input('Введите номер документа: ')\n",
    "            input_type_doc = input('Введите тип документа: ')\n",
    "            input_name_doc = input('Введите имя документа: ')\n",
    "            input_shelf_doc = input('Введите необхожимую полку для хранения документа: ')\n",
    "            add(documents, directories)\n",
    "            break\n",
    "main()"
   ]
  },
  {
   "cell_type": "markdown",
   "metadata": {},
   "source": [
    "Перечень полок, на которых находятся документы хранится в следующем виде:"
   ]
  },
  {
   "cell_type": "markdown",
   "metadata": {},
   "source": [
    "Необходимо реализовать пользовательские команды (внимание! это не название функций, которые должны быть выразительными, а команды, которые вводит пользователь, чтобы получить необходимый результат):\n",
    "  \n",
    "- p – people – команда, которая спросит номер документа и выведет имя человека, которому он принадлежит;  \n",
    "- s – shelf – команда, которая спросит номер документа и выведет номер полки, на которой он находится  \n",
    "*Правильно обработайте ситуации, когда пользователь будет вводить несуществующий документ*.\n",
    "- l – list – команда, которая выведет список всех документов в формате   \n",
    "**passport \"2207 876234\" \"Василий Гупкин\"**  \n",
    "- as – add shelf – команда, которая спросит номер новой полки и добавит ее в перечень. *Предусмотрите случай, когда пользователь добавляет полку, которая уже существует*.\n",
    "- d – delete – команда, которая спросит номер документа и удалит его из каталога и из перечня полок. *Предусмотрите сценарий, когда пользователь вводит несуществующий документ*;  \n",
    "- m – move – команда, которая спросит номер документа и целевую полку и переместит его с текущей полки на целевую. *Корректно обработайте кейсы, когда пользователь пытается переместить несуществующий документ или переместить документ на несуществующую полку*;  \n",
    "- a – add – команда, которая добавит новый документ в каталог и в перечень полок, спросив его номер, тип, имя владельца и номер полки, на котором он будет храниться. *Корректно обработайте ситуацию, когда пользователь будет пытаться добавить документ на несуществующую полку*."
   ]
  }
 ],
 "metadata": {
  "kernelspec": {
   "display_name": "Python 3",
   "language": "python",
   "name": "python3"
  },
  "language_info": {
   "codemirror_mode": {
    "name": "ipython",
    "version": 3
   },
   "file_extension": ".py",
   "mimetype": "text/x-python",
   "name": "python",
   "nbconvert_exporter": "python",
   "pygments_lexer": "ipython3",
   "version": "3.7.6"
  }
 },
 "nbformat": 4,
 "nbformat_minor": 2
}
